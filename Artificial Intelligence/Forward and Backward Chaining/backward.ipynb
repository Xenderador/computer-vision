{
 "cells": [
  {
   "cell_type": "markdown",
   "metadata": {},
   "source": [
    "# Backward Chaining"
   ]
  },
  {
   "cell_type": "code",
   "execution_count": 1,
   "metadata": {},
   "outputs": [
    {
     "name": "stdout",
     "output_type": "stream",
     "text": [
      "The goal 'C' cannot be reached\n"
     ]
    }
   ],
   "source": [
    "knowledge_base = {\n",
    "    \"rule1\":{\n",
    "        \"if\":[\"A\",\"B\"],\n",
    "        \"then\":\"C\"\n",
    "    },\n",
    "    \"rule2\":{\n",
    "        \"if\":[\"D\"],\n",
    "        \"then\":\"A\"\n",
    "    },\n",
    "    \"rule3\":{\n",
    "        \"if\":[\"E\"],\n",
    "        \"then\":\"B\"\n",
    "    },\n",
    "    \"rule4\":{\n",
    "        \"if\":[\"F\"],\n",
    "        \"then\":\"D\"\n",
    "    },\n",
    "    \"rule5\":{\n",
    "        \"if\":[\"G\"],\n",
    "        \"then\":\"E\"\n",
    "    },\n",
    "}\n",
    "\n",
    "\n",
    "def backward_chaining(goal, known_facts):\n",
    "    if goal in known_facts:\n",
    "        return True\n",
    "    for rule, value in knowledge_base.items():\n",
    "        if goal in value[\"if\"]:\n",
    "            all_conditions_met = all(condition in known_facts for condition in value[\"if\"])\n",
    "            if all_conditions_met and backward_chaining(value[\"then\"], known_facts):\n",
    "                return True\n",
    "    return False\n",
    "\n",
    "\n",
    "if __name__ == \"__main__\":\n",
    "    goal = \"C\"\n",
    "    known_facts = [\"G\", \"D\", \"E\"]\n",
    "\n",
    "    if backward_chaining(goal, known_facts):\n",
    "        print(f\"The Goal '{goal}' can be reached\")\n",
    "    else:\n",
    "        print(f\"The goal '{goal}' cannot be reached\")"
   ]
  }
 ],
 "metadata": {
  "kernelspec": {
   "display_name": "base",
   "language": "python",
   "name": "python3"
  },
  "language_info": {
   "codemirror_mode": {
    "name": "ipython",
    "version": 3
   },
   "file_extension": ".py",
   "mimetype": "text/x-python",
   "name": "python",
   "nbconvert_exporter": "python",
   "pygments_lexer": "ipython3",
   "version": "3.11.5"
  }
 },
 "nbformat": 4,
 "nbformat_minor": 2
}
