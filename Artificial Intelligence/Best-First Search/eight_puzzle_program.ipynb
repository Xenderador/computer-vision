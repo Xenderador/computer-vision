{
 "cells": [
  {
   "cell_type": "markdown",
   "metadata": {},
   "source": [
    "# Eight Puzzle Problem"
   ]
  },
  {
   "cell_type": "markdown",
   "metadata": {},
   "source": [
    "### Best-First Search is a search algorithm that explores a search space by prioritizing nodes based on a heuristic function. "
   ]
  },
  {
   "cell_type": "code",
   "execution_count": 1,
   "metadata": {},
   "outputs": [
    {
     "name": "stdout",
     "output_type": "stream",
     "text": [
      "Solution found:\n",
      "(1, 2, 3, 8, 0, 4, 7, 6, 5)\n"
     ]
    }
   ],
   "source": [
    "import heapq\n",
    "\n",
    "class Node:\n",
    "    def __init__(self, state, parent = None, cost = 0):\n",
    "        self.state = state\n",
    "        self.parent = parent\n",
    "        self.cost = cost\n",
    "\n",
    "    def __lt__(self, other):\n",
    "        # Modify this comparison based on your heuristic function\n",
    "        return self.cost < other.cost\n",
    "\n",
    "def best_first_search(problem):    \n",
    "    start_node = Node(problem.initial_state)\n",
    "    open_list = []\n",
    "    closed_set = set()\n",
    "    heapq.heappush(open_list, start_node)\n",
    "\n",
    "    while open_list:\n",
    "        current_node = heapq.heappop(open_list)\n",
    "\n",
    "        if problem.is_goal(current_node.state):\n",
    "            return build_path(current_node)\n",
    "\n",
    "        closed_set.add(current_node.state)\n",
    "\n",
    "        for action, successor, step_cost in problem.get_successors(current_node.state):\n",
    "            if successor not in closed_set:\n",
    "                child = Node(successor, current_node, step_cost)\n",
    "                heapq.heappush(open_list, child)\n",
    "\n",
    "    return None\n",
    "\n",
    "def build_path(node):\n",
    "    path = []\n",
    "    while node:\n",
    "        path.insert(0, node.state)\n",
    "        node = node.parent\n",
    "    return path\n",
    "\n",
    "class Problem:\n",
    "    def __init__(self, initial_state):\n",
    "        self.initial_state = initial_state\n",
    "\n",
    "    def is_goal(self, state):\n",
    "        raise NotImplementedError(\"Subclasses must implement is_goal\")\n",
    "\n",
    "    def get_successors(self, state):\n",
    "        raise NotImplementedError(\"Subclasses must implement get_successors\")\n",
    "\n",
    "class EightPuzzleProblem(Problem):\n",
    "    def is_goal(self, state):\n",
    "        return state == (1, 2, 3, 8, 0, 4, 7, 6, 5)\n",
    "\n",
    "    def get_successors(self, state):\n",
    "        # Implement how to generate successors\n",
    "        pass\n",
    "\n",
    "if __name__ == \"__main__\":\n",
    "    initial_state = (1, 2, 3, 8, 0, 4, 7, 6, 5)\n",
    "    problem = EightPuzzleProblem(initial_state)\n",
    "\n",
    "    solution_path = best_first_search(problem)\n",
    "    if solution_path:\n",
    "        print(\"Solution found:\")\n",
    "        for state in solution_path:\n",
    "            print(state)\n",
    "    else:\n",
    "        print(\"Solution not found\")\n"
   ]
  }
 ],
 "metadata": {
  "kernelspec": {
   "display_name": "base",
   "language": "python",
   "name": "python3"
  },
  "language_info": {
   "codemirror_mode": {
    "name": "ipython",
    "version": 3
   },
   "file_extension": ".py",
   "mimetype": "text/x-python",
   "name": "python",
   "nbconvert_exporter": "python",
   "pygments_lexer": "ipython3",
   "version": "3.11.3"
  },
  "orig_nbformat": 4
 },
 "nbformat": 4,
 "nbformat_minor": 2
}
