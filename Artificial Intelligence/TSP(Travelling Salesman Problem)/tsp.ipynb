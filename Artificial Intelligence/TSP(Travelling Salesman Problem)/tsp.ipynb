{
 "cells": [
  {
   "cell_type": "markdown",
   "metadata": {},
   "source": [
    "# TSP(Travelling Salesman Problem) using Heuristic Approach"
   ]
  },
  {
   "cell_type": "markdown",
   "metadata": {},
   "source": [
    "### The traveling salesman problem (TSP) involves finding the shortest path that visits n specified locations, starting and ending at the same place and visiting the other n-1 destinations exactly once. To the layman, this problem might seem a relatively simple matter of connecting dots, but that couldn’t be further from the truth."
   ]
  },
  {
   "cell_type": "code",
   "execution_count": 1,
   "metadata": {},
   "outputs": [
    {
     "name": "stdout",
     "output_type": "stream",
     "text": [
      "Optimal Tour: [0, 1, 2, 3, 4, 0]\n"
     ]
    }
   ],
   "source": [
    "import math\n",
    "\n",
    "# Define a function to calculate the Euclidean distance btw two points\n",
    "def distance(point1, point2):\n",
    "    return math.sqrt((point1[0] - point2[0]) **2 + (point1[1] - point2[1]) **2)\n",
    "\n",
    "# Define the Nearest Neighbor algorithm\n",
    "def nearest_neighbor(points):\n",
    "    n = len(points)\n",
    "    unvisited = set(range(n))\n",
    "\n",
    "    tour = [0] # Start from the first point\n",
    "    unvisited.remove(0)\n",
    "   \n",
    "    while unvisited:\n",
    "        current_point = tour[-1]\n",
    "        nearest_point = min(unvisited, key = lambda x:distance(points[current_point], points[x]))\n",
    "        tour.append(nearest_point)\n",
    "        unvisited.remove(nearest_point)\n",
    "       \n",
    "    # Complete the tour by returning to the starting point\n",
    "    tour.append(tour[0])\n",
    "   \n",
    "    return tour\n",
    " \n",
    "   # Example usage\n",
    "if __name__ == \"__main__\":\n",
    "\n",
    "    # Define the points as (x,y) coordinates\n",
    "    points = [(0,0),(1,2),(2,3),(3,4),(4,2)]\n",
    "   \n",
    "    # Find the tour using the Nearest Neighbor algorithm\n",
    "    tour = nearest_neighbor(points)\n",
    "   \n",
    "    print(\"Optimal Tour:\",tour)"
   ]
  }
 ],
 "metadata": {
  "kernelspec": {
   "display_name": "base",
   "language": "python",
   "name": "python3"
  },
  "language_info": {
   "codemirror_mode": {
    "name": "ipython",
    "version": 3
   },
   "file_extension": ".py",
   "mimetype": "text/x-python",
   "name": "python",
   "nbconvert_exporter": "python",
   "pygments_lexer": "ipython3",
   "version": "3.11.3"
  },
  "orig_nbformat": 4
 },
 "nbformat": 4,
 "nbformat_minor": 2
}
