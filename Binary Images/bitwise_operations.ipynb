{
 "cells": [
  {
   "cell_type": "code",
   "execution_count": 1,
   "metadata": {},
   "outputs": [],
   "source": [
    "import cv2\n",
    "import numpy as np\n",
    "\n",
    "# Creating black screen images using numpy.zeros function\n",
    "Img_1 = np.zeros((512, 512, 3), dtype='uint8')\n",
    "Img_2 = np.zeros((512, 512, 3), dtype='uint8')\n",
    "\n",
    "Img_1 = cv2.rectangle(Img_1, (100, 200), (300, 450), (255, 255, 255), -1)\n",
    "Img_2 = cv2.rectangle(Img_2, (100, 200), (400, 450), (255, 255, 255), -1)\n",
    "\n",
    "bitwise_and = cv2.bitwise_and(Img_2, Img_1, mask=None)\n",
    "bitwise_or = cv2.bitwise_or(Img_2, Img_1, mask=None)\n",
    "bitwise_xor = cv2.bitwise_xor(Img_2, Img_1, mask=None)\n",
    "bitwise_not = cv2.bitwise_not(Img_2, mask=None)\n",
    "\n",
    "# Display images and wait for a key press\n",
    "cv2.imshow('Image_1', Img_1)\n",
    "cv2.imshow('Image_2', Img_2)\n",
    "cv2.imshow('bitwise_and', bitwise_and)\n",
    "cv2.imshow('bitwise_or', bitwise_or)\n",
    "cv2.imshow('bitwise_xor', bitwise_xor)\n",
    "cv2.imshow('bitwise_not', bitwise_not)\n",
    "\n",
    "# Loop to wait for a key press or window close event\n",
    "# while True:\n",
    "    # key = cv2.waitKey(1)  # Wait for a key press for 1 millisecond\n",
    "\n",
    "    # Check if a key was pressed or if the window was closed\n",
    "    # if key != -1:\n",
    "        #break\n",
    "# Use the above code only when the close button isn't available on the ouput gui \n",
    "        \n",
    "# Wait for a key press and close the windows when a key is pressed\n",
    "cv2.waitKey(0)\n",
    "cv2.destroyAllWindows()\n"
   ]
  }
 ],
 "metadata": {
  "kernelspec": {
   "display_name": "base",
   "language": "python",
   "name": "python3"
  },
  "language_info": {
   "codemirror_mode": {
    "name": "ipython",
    "version": 3
   },
   "file_extension": ".py",
   "mimetype": "text/x-python",
   "name": "python",
   "nbconvert_exporter": "python",
   "pygments_lexer": "ipython3",
   "version": "3.11.3"
  },
  "orig_nbformat": 4
 },
 "nbformat": 4,
 "nbformat_minor": 2
}
