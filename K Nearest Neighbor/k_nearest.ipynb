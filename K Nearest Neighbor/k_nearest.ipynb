{
 "cells": [
  {
   "cell_type": "markdown",
   "metadata": {},
   "source": [
    "# K Nearest Neighbor"
   ]
  },
  {
   "cell_type": "code",
   "execution_count": 1,
   "metadata": {},
   "outputs": [],
   "source": [
    "import numpy as np\n",
    "from sklearn.model_selection import train_test_split as tts\n",
    "from sklearn.neighbors import KNeighborsClassifier\n",
    "from sklearn.metrics import accuracy_score"
   ]
  },
  {
   "cell_type": "code",
   "execution_count": 4,
   "metadata": {},
   "outputs": [
    {
     "name": "stdout",
     "output_type": "stream",
     "text": [
      "Accuracy:  0.3\n"
     ]
    }
   ],
   "source": [
    "# Generate random data\n",
    "np.random.seed(0)\n",
    "\n",
    "x = np.random.rand(100, 2) # Feature natrix\n",
    "y = np.random.choice([0, 1], size = 100) # Target vector (Binary classification)\n",
    "\n",
    "# Split data into training and test sets\n",
    "x_train, x_test, y_train, y_test = tts(x, y, test_size = 0.2, random_state = 42)\n",
    "\n",
    "# Creare KNN classifier\n",
    "k = 3\n",
    "knn_classifer = KNeighborsClassifier(n_neighbors = k)\n",
    "\n",
    "# Proceed with training\n",
    "knn_classifer.fit(x_train, y_train)\n",
    "\n",
    "# Utilize the model to make predictions\n",
    "y_pred = knn_classifer.predict(x_test)\n",
    "\n",
    "acc = accuracy_score(y_test, y_pred)\n",
    "print(\"Accuracy: \", acc)"
   ]
  }
 ],
 "metadata": {
  "kernelspec": {
   "display_name": "Python 3",
   "language": "python",
   "name": "python3"
  },
  "language_info": {
   "codemirror_mode": {
    "name": "ipython",
    "version": 3
   },
   "file_extension": ".py",
   "mimetype": "text/x-python",
   "name": "python",
   "nbconvert_exporter": "python",
   "pygments_lexer": "ipython3",
   "version": "3.11.5"
  }
 },
 "nbformat": 4,
 "nbformat_minor": 2
}
