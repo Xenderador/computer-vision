{
 "cells": [
  {
   "cell_type": "markdown",
   "metadata": {},
   "source": [
    "# N-Queens Problem"
   ]
  },
  {
   "cell_type": "markdown",
   "metadata": {},
   "source": [
    "### The N Queen is the problem of placing N chess queens on an N×N chessboard so that no two queens attack each other."
   ]
  },
  {
   "cell_type": "code",
   "execution_count": 1,
   "metadata": {},
   "outputs": [
    {
     "name": "stdout",
     "output_type": "stream",
     "text": [
      "Enter the number of queens\n",
      "[1, 0, 0, 0, 0, 0, 0, 0]\n",
      "[0, 0, 0, 0, 1, 0, 0, 0]\n",
      "[0, 0, 0, 0, 0, 0, 0, 1]\n",
      "[0, 0, 0, 0, 0, 1, 0, 0]\n",
      "[0, 0, 1, 0, 0, 0, 0, 0]\n",
      "[0, 0, 0, 0, 0, 0, 1, 0]\n",
      "[0, 1, 0, 0, 0, 0, 0, 0]\n",
      "[0, 0, 0, 1, 0, 0, 0, 0]\n"
     ]
    }
   ],
   "source": [
    "print('Enter the number of queens')\n",
    "N = int(input())\n",
    "\n",
    "# here we create a chessboard\n",
    "# NxN matrix with all elements set to 0\n",
    "\n",
    "board = [[0]*N for _ in range(N)]\n",
    "def attack(i,j):\n",
    "\n",
    "    # checking vertically and horizontally\n",
    "    for k in range(0,N):\n",
    "        if board[i][k]==1 or board[k][j]==1:\n",
    "            return True\n",
    "    for k in range(0,N):\n",
    "        for l in range(0,N):\n",
    "            if(k+l==i+j) or (k-l==i-j):\n",
    "                if board[k][l]==1:\n",
    "                    return True\n",
    "    return False\n",
    "def N_queens(n):\n",
    "    if n==0:\n",
    "        return True\n",
    "    \n",
    "    # checking diagonally\n",
    "    for i in range(0,N):\n",
    "        for j in range(0,N):\n",
    "            if(not(attack(i,j))) and (board[i][j]!=1):\n",
    "                board[i][j]=1\n",
    "                if N_queens(n-1)==True:\n",
    "                    return True\n",
    "                board[i][j]=0\n",
    "    return False\n",
    "N_queens(N)\n",
    "for i in board:\n",
    "    print(i)"
   ]
  }
 ],
 "metadata": {
  "kernelspec": {
   "display_name": "base",
   "language": "python",
   "name": "python3"
  },
  "language_info": {
   "codemirror_mode": {
    "name": "ipython",
    "version": 3
   },
   "file_extension": ".py",
   "mimetype": "text/x-python",
   "name": "python",
   "nbconvert_exporter": "python",
   "pygments_lexer": "ipython3",
   "version": "3.11.3"
  },
  "orig_nbformat": 4
 },
 "nbformat": 4,
 "nbformat_minor": 2
}
